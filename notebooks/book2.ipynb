{
 "cells": [
  {
   "cell_type": "code",
   "execution_count": 1,
   "metadata": {},
   "outputs": [
    {
     "name": "stderr",
     "output_type": "stream",
     "text": [
      "[*********************100%%**********************]  5 of 5 completed\n"
     ]
    },
    {
     "data": {
      "text/html": [
       "<div>\n",
       "<style scoped>\n",
       "    .dataframe tbody tr th:only-of-type {\n",
       "        vertical-align: middle;\n",
       "    }\n",
       "\n",
       "    .dataframe tbody tr th {\n",
       "        vertical-align: top;\n",
       "    }\n",
       "\n",
       "    .dataframe thead th {\n",
       "        text-align: right;\n",
       "    }\n",
       "</style>\n",
       "<table border=\"1\" class=\"dataframe\">\n",
       "  <thead>\n",
       "    <tr style=\"text-align: right;\">\n",
       "      <th>Ticker</th>\n",
       "      <th>GLD</th>\n",
       "      <th>TLT</th>\n",
       "      <th>XLK</th>\n",
       "      <th>XLP</th>\n",
       "      <th>XLV</th>\n",
       "    </tr>\n",
       "    <tr>\n",
       "      <th>Date</th>\n",
       "      <th></th>\n",
       "      <th></th>\n",
       "      <th></th>\n",
       "      <th></th>\n",
       "      <th></th>\n",
       "    </tr>\n",
       "  </thead>\n",
       "  <tbody>\n",
       "    <tr>\n",
       "      <th>2005-01-03</th>\n",
       "      <td>43.020000</td>\n",
       "      <td>48.357395</td>\n",
       "      <td>16.243130</td>\n",
       "      <td>14.010859</td>\n",
       "      <td>21.538517</td>\n",
       "    </tr>\n",
       "    <tr>\n",
       "      <th>2005-01-04</th>\n",
       "      <td>42.740002</td>\n",
       "      <td>47.850624</td>\n",
       "      <td>15.940460</td>\n",
       "      <td>13.962294</td>\n",
       "      <td>21.365288</td>\n",
       "    </tr>\n",
       "    <tr>\n",
       "      <th>2005-01-05</th>\n",
       "      <td>42.669998</td>\n",
       "      <td>48.106743</td>\n",
       "      <td>15.886132</td>\n",
       "      <td>13.889442</td>\n",
       "      <td>21.329185</td>\n",
       "    </tr>\n",
       "    <tr>\n",
       "      <th>2005-01-06</th>\n",
       "      <td>42.150002</td>\n",
       "      <td>48.139450</td>\n",
       "      <td>15.839572</td>\n",
       "      <td>13.956223</td>\n",
       "      <td>21.487988</td>\n",
       "    </tr>\n",
       "    <tr>\n",
       "      <th>2005-01-07</th>\n",
       "      <td>41.840000</td>\n",
       "      <td>48.248436</td>\n",
       "      <td>15.870621</td>\n",
       "      <td>14.022989</td>\n",
       "      <td>21.473549</td>\n",
       "    </tr>\n",
       "  </tbody>\n",
       "</table>\n",
       "</div>"
      ],
      "text/plain": [
       "Ticker            GLD        TLT        XLK        XLP        XLV\n",
       "Date                                                             \n",
       "2005-01-03  43.020000  48.357395  16.243130  14.010859  21.538517\n",
       "2005-01-04  42.740002  47.850624  15.940460  13.962294  21.365288\n",
       "2005-01-05  42.669998  48.106743  15.886132  13.889442  21.329185\n",
       "2005-01-06  42.150002  48.139450  15.839572  13.956223  21.487988\n",
       "2005-01-07  41.840000  48.248436  15.870621  14.022989  21.473549"
      ]
     },
     "execution_count": 1,
     "metadata": {},
     "output_type": "execute_result"
    }
   ],
   "source": [
    "import vectorbt as vbt\n",
    "import pandas as pd\n",
    "import numpy as np\n",
    "import yfinance as yf\n",
    "\n",
    "# Symbols for ETFs\n",
    "etfs = ['TLT','GLD','XLP','XLK','XLV']  \n",
    "\n",
    "# Download historical data\n",
    "data = yf.download(etfs, start=\"2005-01-01\", end=\"2020-12-31\")['Adj Close']\n",
    "#data.ffill(inplace=True)  # Forward-fill to handle missing values\n",
    "data.head(5)\n"
   ]
  },
  {
   "cell_type": "code",
   "execution_count": 2,
   "metadata": {},
   "outputs": [
    {
     "name": "stderr",
     "output_type": "stream",
     "text": [
      "/var/folders/yh/nnw5blt935v54t02pj41_rjm0000gn/T/ipykernel_75686/3181827276.py:2: FutureWarning: 'M' is deprecated and will be removed in a future version, please use 'ME' instead.\n",
      "  last_day_of_month = data.groupby(pd.Grouper(freq='M')).apply(lambda x: x.index.max())\n"
     ]
    },
    {
     "data": {
      "text/plain": [
       "Date\n",
       "2005-01-31    True\n",
       "2005-02-28    True\n",
       "2005-03-31    True\n",
       "2005-04-29    True\n",
       "2005-05-31    True\n",
       "              ... \n",
       "2020-08-31    True\n",
       "2020-09-30    True\n",
       "2020-10-30    True\n",
       "2020-11-30    True\n",
       "2020-12-30    True\n",
       "Length: 192, dtype: bool"
      ]
     },
     "execution_count": 2,
     "metadata": {},
     "output_type": "execute_result"
    }
   ],
   "source": [
    "# Generating the Boolean series\n",
    "last_day_of_month = data.groupby(pd.Grouper(freq='M')).apply(lambda x: x.index.max())\n",
    "monthly_last_trading = data.index.isin(last_day_of_month)\n",
    "\n",
    "# Convert to Series\n",
    "exits = pd.Series(monthly_last_trading, index=data.index)\n",
    "\n",
    "exits.loc[exits == True]\n"
   ]
  },
  {
   "cell_type": "code",
   "execution_count": 3,
   "metadata": {},
   "outputs": [
    {
     "name": "stderr",
     "output_type": "stream",
     "text": [
      "/var/folders/yh/nnw5blt935v54t02pj41_rjm0000gn/T/ipykernel_75686/3640964199.py:2: FutureWarning: 'BM' is deprecated and will be removed in a future version, please use 'BME' instead.\n",
      "  rebalance_dates = pd.date_range(start=data.index.min(), end=data.index.max(), freq='BM')\n"
     ]
    },
    {
     "name": "stdout",
     "output_type": "stream",
     "text": [
      "Ticker        GLD    TLT    XLK    XLP    XLV\n",
      "Date                                         \n",
      "2005-01-03  False  False  False  False  False\n",
      "2005-01-04  False  False  False  False  False\n",
      "2005-01-05  False  False  False  False  False\n",
      "2005-01-06  False  False  False  False  False\n",
      "2005-01-07  False  False  False  False  False\n",
      "Ticker        GLD    TLT    XLK    XLP    XLV\n",
      "Date                                         \n",
      "2005-01-03  False  False  False  False  False\n",
      "2005-01-04  False  False  False  False  False\n",
      "2005-01-05  False  False  False  False  False\n",
      "2005-01-06  False  False  False  False  False\n",
      "2005-01-07  False  False  False  False  False\n",
      "2005-01-10  False  False  False  False  False\n",
      "2005-01-11  False  False  False  False  False\n",
      "2005-01-12  False  False  False  False  False\n",
      "2005-01-13  False  False  False  False  False\n",
      "2005-01-14  False  False  False  False  False\n",
      "2005-01-18  False  False  False  False  False\n",
      "2005-01-19  False  False  False  False  False\n",
      "2005-01-20  False  False  False  False  False\n",
      "2005-01-21  False  False  False  False  False\n",
      "2005-01-24  False  False  False  False  False\n",
      "2005-01-25  False  False  False  False  False\n",
      "2005-01-26  False  False  False  False  False\n",
      "2005-01-27  False  False  False  False  False\n",
      "2005-01-28  False  False  False  False  False\n",
      "2005-01-31  False  False  False  False  False\n",
      "2005-02-01  False  False  False  False  False\n",
      "2005-02-02  False  False  False  False  False\n",
      "2005-02-03  False  False  False  False  False\n",
      "2005-02-04  False  False  False  False  False\n",
      "2005-02-07  False  False  False  False  False\n",
      "2005-02-08  False  False  False  False  False\n",
      "2005-02-09  False  False  False  False  False\n",
      "2005-02-10  False  False  False  False  False\n",
      "2005-02-11  False  False  False  False  False\n",
      "2005-02-14  False  False  False  False  False\n",
      "2005-02-15  False  False  False  False  False\n",
      "2005-02-16  False  False  False  False  False\n",
      "2005-02-17  False  False  False  False  False\n",
      "2005-02-18  False  False  False  False  False\n",
      "2005-02-22  False  False  False  False  False\n",
      "2005-02-23  False  False  False  False  False\n",
      "2005-02-24  False  False  False  False  False\n",
      "2005-02-25  False  False  False  False  False\n",
      "2005-02-28  False  False  False  False  False\n",
      "2005-03-01  False  False  False  False  False\n",
      "Ticker\n",
      "GLD    0.641781\n",
      "TLT    0.378433\n",
      "XLK    1.433835\n",
      "XLP    0.668871\n",
      "XLV    0.811276\n",
      "Name: total_return, dtype: float64\n"
     ]
    }
   ],
   "source": [
    "# Generate last day of each month for the given period\n",
    "rebalance_dates = pd.date_range(start=data.index.min(), end=data.index.max(), freq='BM')\n",
    "\n",
    "# Define entries on the rebalance dates\n",
    "entries = pd.DataFrame(False, index=data.index, columns=data.columns)\n",
    "\n",
    "for date in rebalance_dates:\n",
    "    if date in entries.index:\n",
    "        entries.loc[date] = True\n",
    "\n",
    "print(entries.head(5))\n",
    "\n",
    "# Define exits - in this strategy, there are technically no exits, just rebalances\n",
    "exits = pd.DataFrame(False, index=data.index, columns=data.columns)\n",
    "print(exits.head(40))\n",
    "\n",
    "# Weights for each ETF in the portfolio\n",
    "weights = np.repeat(1/len(etfs), len(etfs))\n",
    "\n",
    "# Create a portfolio with rebalancing on specific dates\n",
    "portfolio = vbt.Portfolio.from_orders(\n",
    "    close=data,\n",
    "    size=weights,\n",
    "    size_type='target_percent', \n",
    "    freq='D',\n",
    "    init_cash=10000\n",
    ")\n",
    "\n",
    "rb_pf = vbt.Portfolio.from_orders(\n",
    "    close=_price,\n",
    "    size=rb_size,\n",
    "    size_type='targetpercent',\n",
    "    group_by='symbol_group',\n",
    "    cash_sharing=True,\n",
    "    call_seq='auto'  # important: sell before buy\n",
    "# Run the backtest\n",
    "results = portfolio.total_return()\n",
    "\n",
    "# Output the results\n",
    "print(results)\n",
    "\n"
   ]
  },
  {
   "cell_type": "code",
   "execution_count": 4,
   "metadata": {},
   "outputs": [
    {
     "name": "stdout",
     "output_type": "stream",
     "text": [
      "Annual Returns:\n",
      "Ticker           GLD       TLT       XLK       XLP       XLV\n",
      "Date                                                        \n",
      "2005-12-31  0.044339  0.009714  0.011277  0.003305  0.019672\n",
      "2006-12-31  0.052753  0.001471  0.025399  0.029361  0.015191\n",
      "2007-12-31  0.082942  0.021521  0.035322  0.028592  0.016265\n",
      "2008-12-31  0.016153  0.076571 -0.105776 -0.037095 -0.055838\n",
      "2009-12-31  0.081402 -0.061191  0.085555  0.031111  0.037978\n",
      "2010-12-31  0.113726  0.021065  0.026477  0.033278  0.007392\n",
      "2011-12-31  0.043140  0.084843  0.006591  0.037461  0.028480\n",
      "2012-12-31  0.031259  0.007426  0.039321  0.031366  0.043614\n",
      "2013-12-31 -0.138713 -0.041927  0.074833  0.082597  0.116923\n",
      "2014-12-31 -0.008912  0.077339  0.059762  0.057581  0.089859\n",
      "2015-12-31 -0.042909 -0.005990  0.020370  0.027547  0.028039\n",
      "2016-12-31  0.030147  0.003875  0.057792  0.020763 -0.011780\n",
      "2017-12-31  0.050415  0.030606  0.143389  0.055656  0.091382\n",
      "2018-12-31 -0.008204 -0.005691 -0.008243 -0.037034  0.029409\n",
      "2019-12-31  0.074622  0.049329  0.242929  0.120168  0.098881\n",
      "2020-12-31  0.111617  0.068320  0.255017  0.046560  0.064214\n"
     ]
    },
    {
     "name": "stderr",
     "output_type": "stream",
     "text": [
      "/var/folders/yh/nnw5blt935v54t02pj41_rjm0000gn/T/ipykernel_75686/979315640.py:5: FutureWarning: 'A' is deprecated and will be removed in a future version, please use 'YE' instead.\n",
      "  annual_returns = daily_returns.resample('A').apply(lambda x: (x + 1).prod() - 1)\n"
     ]
    }
   ],
   "source": [
    "# Calculate daily returns\n",
    "daily_returns = portfolio.returns()\n",
    "\n",
    "# Calculate annual returns\n",
    "annual_returns = daily_returns.resample('A').apply(lambda x: (x + 1).prod() - 1)\n",
    "\n",
    "print(\"Annual Returns:\")\n",
    "print(annual_returns)\n"
   ]
  },
  {
   "cell_type": "code",
   "execution_count": 5,
   "metadata": {},
   "outputs": [
    {
     "name": "stdout",
     "output_type": "stream",
     "text": [
      "Start                         2005-01-03 00:00:00\n",
      "End                           2020-12-30 00:00:00\n",
      "Period                         4027 days 00:00:00\n",
      "Start Value                               10000.0\n",
      "End Value                            17868.392434\n",
      "Total Return [%]                        78.683924\n",
      "Benchmark Return [%]                   384.922738\n",
      "Max Gross Exposure [%]                  54.560759\n",
      "Total Fees Paid                               0.0\n",
      "Max Drawdown [%]                         15.63175\n",
      "Max Drawdown Duration          1056 days 19:12:00\n",
      "Total Trades                                  1.0\n",
      "Total Closed Trades                           0.0\n",
      "Total Open Trades                             1.0\n",
      "Open Trade PnL                        7868.392434\n",
      "Win Rate [%]                                  NaN\n",
      "Best Trade [%]                                NaN\n",
      "Worst Trade [%]                               NaN\n",
      "Avg Winning Trade [%]                         NaN\n",
      "Avg Losing Trade [%]                          NaN\n",
      "Avg Winning Trade Duration                    NaT\n",
      "Avg Losing Trade Duration                     NaT\n",
      "Profit Factor                                 NaN\n",
      "Expectancy                                    NaN\n",
      "Sharpe Ratio                             0.706853\n",
      "Calmar Ratio                             0.353494\n",
      "Omega Ratio                              1.123935\n",
      "Sortino Ratio                            0.996562\n",
      "Name: agg_func_mean, dtype: object\n"
     ]
    },
    {
     "name": "stderr",
     "output_type": "stream",
     "text": [
      "/var/folders/yh/nnw5blt935v54t02pj41_rjm0000gn/T/ipykernel_75686/1076709553.py:1: UserWarning: Object has multiple columns. Aggregating using <function mean at 0x1159e5760>. Pass column to select a single column/group.\n",
      "  print(portfolio.stats())\n"
     ]
    }
   ],
   "source": [
    "print(portfolio.stats())"
   ]
  }
 ],
 "metadata": {
  "kernelspec": {
   "display_name": "finance",
   "language": "python",
   "name": "python3"
  },
  "language_info": {
   "codemirror_mode": {
    "name": "ipython",
    "version": 3
   },
   "file_extension": ".py",
   "mimetype": "text/x-python",
   "name": "python",
   "nbconvert_exporter": "python",
   "pygments_lexer": "ipython3",
   "version": "3.11.8"
  }
 },
 "nbformat": 4,
 "nbformat_minor": 2
}
